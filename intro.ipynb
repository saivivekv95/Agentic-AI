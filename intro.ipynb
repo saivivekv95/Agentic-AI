{
 "cells": [
  {
   "cell_type": "code",
   "execution_count": 17,
   "id": "0e86d796",
   "metadata": {},
   "outputs": [
    {
     "name": "stdout",
     "output_type": "stream",
     "text": [
      "Requirement already satisfied: pydantic==2.0.3 in d:\\projects\\langchain\\pydantic\\venv\\lib\\site-packages (2.0.3)\n",
      "Requirement already satisfied: annotated-types>=0.4.0 in d:\\projects\\langchain\\pydantic\\venv\\lib\\site-packages (from pydantic==2.0.3) (0.7.0)\n",
      "Requirement already satisfied: pydantic-core==2.3.0 in d:\\projects\\langchain\\pydantic\\venv\\lib\\site-packages (from pydantic==2.0.3) (2.3.0)\n",
      "Requirement already satisfied: typing-extensions>=4.6.1 in d:\\projects\\langchain\\pydantic\\venv\\lib\\site-packages (from pydantic==2.0.3) (4.15.0)\n"
     ]
    }
   ],
   "source": [
    "!pip install pydantic==2.0.3"
   ]
  },
  {
   "cell_type": "markdown",
   "id": "a1ddc956",
   "metadata": {},
   "source": [
    "Pydantic used for the data validaiton"
   ]
  },
  {
   "cell_type": "code",
   "execution_count": 18,
   "id": "eca20edf",
   "metadata": {},
   "outputs": [],
   "source": [
    "from pydantic import BaseModel"
   ]
  },
  {
   "cell_type": "code",
   "execution_count": 23,
   "id": "71bc71dd",
   "metadata": {},
   "outputs": [
    {
     "name": "stdout",
     "output_type": "stream",
     "text": [
      "Person(name='Vivek', age=30, city='Berlin')\n"
     ]
    }
   ],
   "source": [
    "from dataclasses import dataclass\n",
    "\n",
    "@dataclass\n",
    "class Person():\n",
    "    name: str\n",
    "    age: int\n",
    "    city: str\n",
    "    \n",
    "person = Person(name=\"Vivek\", age=30, city=\"Berlin\")\n",
    "print(person)\n"
   ]
  },
  {
   "cell_type": "code",
   "execution_count": 26,
   "id": "8f45f47e",
   "metadata": {},
   "outputs": [
    {
     "name": "stdout",
     "output_type": "stream",
     "text": [
      "name='Vivek' age=30 city='Berlin'\n"
     ]
    }
   ],
   "source": [
    "class Person(BaseModel):\n",
    "    name: str\n",
    "    age: int\n",
    "    city: str\n",
    "\n",
    "person = Person(name=\"Vivek\", age=30, city=\"Berlin\")\n",
    "print(person)"
   ]
  },
  {
   "cell_type": "code",
   "execution_count": 27,
   "id": "102c35e8",
   "metadata": {},
   "outputs": [
    {
     "ename": "ValidationError",
     "evalue": "1 validation error for Person\ncity\n  Input should be a valid string [type=string_type, input_value=11, input_type=int]\n    For further information visit https://errors.pydantic.dev/2.0.3/v/string_type",
     "output_type": "error",
     "traceback": [
      "\u001b[31m---------------------------------------------------------------------------\u001b[39m",
      "\u001b[31mValidationError\u001b[39m                           Traceback (most recent call last)",
      "\u001b[36mCell\u001b[39m\u001b[36m \u001b[39m\u001b[32mIn[27]\u001b[39m\u001b[32m, line 1\u001b[39m\n\u001b[32m----> \u001b[39m\u001b[32m1\u001b[39m person1 = \u001b[43mPerson\u001b[49m\u001b[43m(\u001b[49m\u001b[43mname\u001b[49m\u001b[43m=\u001b[49m\u001b[33;43m\"\u001b[39;49m\u001b[33;43mVivek\u001b[39;49m\u001b[33;43m\"\u001b[39;49m\u001b[43m,\u001b[49m\u001b[43m \u001b[49m\u001b[43mage\u001b[49m\u001b[43m=\u001b[49m\u001b[32;43m30\u001b[39;49m\u001b[43m,\u001b[49m\u001b[43m \u001b[49m\u001b[43mcity\u001b[49m\u001b[43m=\u001b[49m\u001b[32;43m11\u001b[39;49m\u001b[43m)\u001b[49m\n\u001b[32m      2\u001b[39m \u001b[38;5;28mprint\u001b[39m(person1)\n",
      "\u001b[36mFile \u001b[39m\u001b[32md:\\Projects\\LangChain\\Pydantic\\venv\\Lib\\site-packages\\pydantic\\main.py:150\u001b[39m, in \u001b[36mBaseModel.__init__\u001b[39m\u001b[34m(__pydantic_self__, **data)\u001b[39m\n\u001b[32m    148\u001b[39m \u001b[38;5;66;03m# `__tracebackhide__` tells pytest and some other tools to omit this function from tracebacks\u001b[39;00m\n\u001b[32m    149\u001b[39m __tracebackhide__ = \u001b[38;5;28;01mTrue\u001b[39;00m\n\u001b[32m--> \u001b[39m\u001b[32m150\u001b[39m \u001b[43m__pydantic_self__\u001b[49m\u001b[43m.\u001b[49m\u001b[43m__pydantic_validator__\u001b[49m\u001b[43m.\u001b[49m\u001b[43mvalidate_python\u001b[49m\u001b[43m(\u001b[49m\u001b[43mdata\u001b[49m\u001b[43m,\u001b[49m\u001b[43m \u001b[49m\u001b[43mself_instance\u001b[49m\u001b[43m=\u001b[49m\u001b[43m__pydantic_self__\u001b[49m\u001b[43m)\u001b[49m\n",
      "\u001b[31mValidationError\u001b[39m: 1 validation error for Person\ncity\n  Input should be a valid string [type=string_type, input_value=11, input_type=int]\n    For further information visit https://errors.pydantic.dev/2.0.3/v/string_type"
     ]
    }
   ],
   "source": [
    "person1 = Person(name=\"Vivek\", age=30, city=11)\n",
    "print(person1)"
   ]
  },
  {
   "cell_type": "code",
   "execution_count": 34,
   "id": "b4eac334",
   "metadata": {},
   "outputs": [],
   "source": [
    "from typing import Optional\n",
    "class Employee(BaseModel):\n",
    "    id:int\n",
    "    name:str\n",
    "    department:str\n",
    "    salary: Optional[float]=None  #Optional with default value\n",
    "    is_active: Optional[bool] = True #Optional with default True\n"
   ]
  },
  {
   "cell_type": "code",
   "execution_count": 35,
   "id": "8e04a63d",
   "metadata": {},
   "outputs": [
    {
     "name": "stdout",
     "output_type": "stream",
     "text": [
      "id=1 name='John' department='IT' salary=None is_active=True\n"
     ]
    }
   ],
   "source": [
    "emp1= Employee(id=1,name=\"John\",department=\"IT\")\n",
    "print(emp1)"
   ]
  },
  {
   "cell_type": "code",
   "execution_count": 39,
   "id": "bdddef2c",
   "metadata": {},
   "outputs": [],
   "source": [
    "from pydantic import BaseModel\n",
    "from typing import List\n",
    "\n",
    "class Classroom(BaseModel):\n",
    "    room_number:str\n",
    "    students:List[str]\n",
    "    capacity:int"
   ]
  },
  {
   "cell_type": "code",
   "execution_count": 40,
   "id": "894502cd",
   "metadata": {},
   "outputs": [
    {
     "name": "stdout",
     "output_type": "stream",
     "text": [
      "room_number='101' students=['A', 'B', 'C'] capacity=34\n"
     ]
    }
   ],
   "source": [
    "classroom=Classroom(\n",
    "    room_number=\"101\",\n",
    "    students=(\"A\",\"B\",\"C\"),\n",
    "    capacity=34\n",
    ")\n",
    "print(classroom)"
   ]
  },
  {
   "cell_type": "code",
   "execution_count": 43,
   "id": "1285b404",
   "metadata": {},
   "outputs": [
    {
     "name": "stdout",
     "output_type": "stream",
     "text": [
      "2 validation errors for Classroom\n",
      "students.1\n",
      "  Input should be a valid string [type=string_type, input_value=2, input_type=int]\n",
      "    For further information visit https://errors.pydantic.dev/2.0.3/v/string_type\n",
      "capacity\n",
      "  Field required [type=missing, input_value={'room_number': '211', 's...'FDS'], 'capacityy': 33}, input_type=dict]\n",
      "    For further information visit https://errors.pydantic.dev/2.0.3/v/missing\n"
     ]
    }
   ],
   "source": [
    "try:\n",
    "    invalid_val=Classroom(room_number=\"211\",students=[\"A\",2,\"FDS\"],capacityy=33)\n",
    "    \n",
    "except ValueError as e:\n",
    "    print(e)"
   ]
  },
  {
   "cell_type": "markdown",
   "id": "c3b494fd",
   "metadata": {},
   "source": [
    "#### Model with Nested Model"
   ]
  },
  {
   "cell_type": "markdown",
   "id": "ac429ac9",
   "metadata": {},
   "source": []
  },
  {
   "cell_type": "code",
   "execution_count": 45,
   "id": "f0b5f2fa",
   "metadata": {},
   "outputs": [
    {
     "name": "stdout",
     "output_type": "stream",
     "text": [
      "customer_id=1 name='Andrew' address=Address(street='123Main', city='Berlin', zip_code='9012830')\n"
     ]
    }
   ],
   "source": [
    "from pydantic import BaseModel\n",
    "\n",
    "class Address(BaseModel):\n",
    "    street:str\n",
    "    city:str\n",
    "    zip_code:str\n",
    "    \n",
    "class Customer(BaseModel):\n",
    "    customer_id:int\n",
    "    name:str\n",
    "    address:Address  #NestedModel\n",
    "    \n",
    "customer=Customer(customer_id=1,name=\"Andrew\",address={\"street\":\"123Main\",\"city\":\"Berlin\",\"zip_code\":\"9012830\"})\n",
    "print(customer)\n"
   ]
  },
  {
   "cell_type": "markdown",
   "id": "b91bad4f",
   "metadata": {},
   "source": [
    "Pydantic Fields:Customization and constraints"
   ]
  },
  {
   "cell_type": "code",
   "execution_count": 50,
   "id": "0d490341",
   "metadata": {},
   "outputs": [
    {
     "ename": "ValidationError",
     "evalue": "2 validation errors for Item\nprice\n  Input should be less than or equal to 1000 [type=less_than_equal, input_value=5251515, input_type=int]\n    For further information visit https://errors.pydantic.dev/2.0.3/v/less_than_equal\nquantity\n  Input should be greater than or equal to 0 [type=greater_than_equal, input_value=-2, input_type=int]\n    For further information visit https://errors.pydantic.dev/2.0.3/v/greater_than_equal",
     "output_type": "error",
     "traceback": [
      "\u001b[31m---------------------------------------------------------------------------\u001b[39m",
      "\u001b[31mValidationError\u001b[39m                           Traceback (most recent call last)",
      "\u001b[36mCell\u001b[39m\u001b[36m \u001b[39m\u001b[32mIn[50]\u001b[39m\u001b[32m, line 8\u001b[39m\n\u001b[32m      5\u001b[39m     price:\u001b[38;5;28mfloat\u001b[39m=Field(gt=\u001b[32m0\u001b[39m,le=\u001b[32m1000\u001b[39m)\n\u001b[32m      6\u001b[39m     quantity:\u001b[38;5;28mint\u001b[39m=Field(ge=\u001b[32m0\u001b[39m)\n\u001b[32m----> \u001b[39m\u001b[32m8\u001b[39m item=\u001b[43mItem\u001b[49m\u001b[43m(\u001b[49m\u001b[43mname\u001b[49m\u001b[43m=\u001b[49m\u001b[33;43m\"\u001b[39;49m\u001b[33;43mBook\u001b[39;49m\u001b[33;43m\"\u001b[39;49m\u001b[43m,\u001b[49m\u001b[43mprice\u001b[49m\u001b[43m=\u001b[49m\u001b[32;43m5251515\u001b[39;49m\u001b[43m,\u001b[49m\u001b[43mquantity\u001b[49m\u001b[43m=\u001b[49m\u001b[43m-\u001b[49m\u001b[32;43m2\u001b[39;49m\u001b[43m)\u001b[49m\n\u001b[32m     10\u001b[39m \u001b[38;5;28mprint\u001b[39m(item)\n",
      "\u001b[36mFile \u001b[39m\u001b[32md:\\Projects\\LangChain\\Pydantic\\venv\\Lib\\site-packages\\pydantic\\main.py:150\u001b[39m, in \u001b[36mBaseModel.__init__\u001b[39m\u001b[34m(__pydantic_self__, **data)\u001b[39m\n\u001b[32m    148\u001b[39m \u001b[38;5;66;03m# `__tracebackhide__` tells pytest and some other tools to omit this function from tracebacks\u001b[39;00m\n\u001b[32m    149\u001b[39m __tracebackhide__ = \u001b[38;5;28;01mTrue\u001b[39;00m\n\u001b[32m--> \u001b[39m\u001b[32m150\u001b[39m \u001b[43m__pydantic_self__\u001b[49m\u001b[43m.\u001b[49m\u001b[43m__pydantic_validator__\u001b[49m\u001b[43m.\u001b[49m\u001b[43mvalidate_python\u001b[49m\u001b[43m(\u001b[49m\u001b[43mdata\u001b[49m\u001b[43m,\u001b[49m\u001b[43m \u001b[49m\u001b[43mself_instance\u001b[49m\u001b[43m=\u001b[49m\u001b[43m__pydantic_self__\u001b[49m\u001b[43m)\u001b[49m\n",
      "\u001b[31mValidationError\u001b[39m: 2 validation errors for Item\nprice\n  Input should be less than or equal to 1000 [type=less_than_equal, input_value=5251515, input_type=int]\n    For further information visit https://errors.pydantic.dev/2.0.3/v/less_than_equal\nquantity\n  Input should be greater than or equal to 0 [type=greater_than_equal, input_value=-2, input_type=int]\n    For further information visit https://errors.pydantic.dev/2.0.3/v/greater_than_equal"
     ]
    }
   ],
   "source": [
    "from pydantic import BaseModel,Field\n",
    "\n",
    "class Item(BaseModel):\n",
    "    name:str=Field(min_length=2,max_length=50)\n",
    "    price:float=Field(gt=0,le=1000)\n",
    "    quantity:int=Field(ge=0)\n",
    "    \n",
    "item=Item(name=\"Book\",price=5251515,quantity=-2)\n",
    "\n",
    "print(item)"
   ]
  },
  {
   "cell_type": "code",
   "execution_count": null,
   "id": "e5ff2be2",
   "metadata": {},
   "outputs": [],
   "source": []
  }
 ],
 "metadata": {
  "kernelspec": {
   "display_name": "Python 3",
   "language": "python",
   "name": "python3"
  },
  "language_info": {
   "codemirror_mode": {
    "name": "ipython",
    "version": 3
   },
   "file_extension": ".py",
   "mimetype": "text/x-python",
   "name": "python",
   "nbconvert_exporter": "python",
   "pygments_lexer": "ipython3",
   "version": "3.12.0"
  }
 },
 "nbformat": 4,
 "nbformat_minor": 5
}
